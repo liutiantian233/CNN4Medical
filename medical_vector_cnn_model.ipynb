{
 "cells": [
  {
   "cell_type": "code",
   "execution_count": 1,
   "id": "d39d5b58",
   "metadata": {},
   "outputs": [
   ],
   "source": [
    "import torch\n",
    "import torch.nn as nn\n",
    "import numpy as np\n",
    "from cnn_model import SimilarityCNN\n",
    "from torch.utils.data import DataLoader\n",
    "from evaluation import eval_model, train_model\n",
    "from gensim.models import KeyedVectors\n",
    "from dataset import SentenceDataset\n",
    "from torch.nn.utils.rnn import pad_sequence\n",
    "from torch.utils.data.dataset import random_split"
   ]
  },
  {
   "cell_type": "markdown",
   "id": "3de63d15",
   "metadata": {},
   "source": [
    "# Load  Model"
   ]
  },
  {
   "cell_type": "code",
   "execution_count": 2,
   "id": "6cf38da1",
   "metadata": {},
   "outputs": [],
   "source": [
    "embedding = KeyedVectors.load_word2vec_format('./models/Medical.txt', binary=False)\n",
    "padding_num = len(embedding.vectors)\n",
    "def collate_fn(data):\n",
    "    s0, s1, labels = zip(*data)\n",
    "    s0 = pad_sequence(s0, batch_first=True, padding_value=padding_num)\n",
    "    s1 = pad_sequence(s1, batch_first=True, padding_value=padding_num)\n",
    "    return s0, s1, torch.tensor(labels, dtype=torch.float).reshape((len(labels), 1))"
   ]
  },
  {
   "cell_type": "markdown",
   "id": "eb2243a0",
   "metadata": {},
   "source": [
    "# Load Data"
   ]
  },
  {
   "cell_type": "code",
   "execution_count": 3,
   "id": "851403e2",
   "metadata": {},
   "outputs": [],
   "source": [
    "medical_vector_dataset = SentenceDataset(embedding)\n",
    "split = int(len(medical_vector_dataset)*0.8)\n",
    "lengths = [split, len(medical_vector_dataset) - split]\n",
    "train_dataset, val_dataset = random_split(medical_vector_dataset, lengths)\n",
    "def load_data(train_dataset, val_dataset):\n",
    "    batch_size = 32\n",
    "    # your code here\n",
    "    train_loader = DataLoader(train_dataset, batch_size=batch_size, shuffle=True, collate_fn=collate_fn)\n",
    "    val_loader = DataLoader(val_dataset, batch_size=batch_size, shuffle=False, collate_fn=collate_fn)\n",
    "    return train_loader, val_loader\n",
    "\n",
    "\n",
    "train_loader, val_loader = load_data(train_dataset, val_dataset)"
   ]
  },
  {
   "cell_type": "markdown",
   "id": "0e29482e",
   "metadata": {},
   "source": [
    "# Train and Evaluate"
   ]
  },
  {
   "cell_type": "code",
   "execution_count": 4,
   "id": "680bdb71",
   "metadata": {},
   "outputs": [
    {
     "name": "stdout",
     "output_type": "stream",
     "text": [
      "Validation acc: 0.9510416666666667, p:0.9549436795994993, f:0.8665530948324816, roc_auc:0.9392040856345182\n"
     ]
    }
   ],
   "source": [
    "model = SimilarityCNN(embedding)\n",
    "n_epochs = 4\n",
    "# load the loss function\n",
    "criterion = nn.BCELoss()\n",
    "# load the optimizer\n",
    "optimizer = torch.optim.Adam(model.parameters(), lr = 0.01)\n",
    "model = train_model(model, train_loader, n_epoch=n_epochs, optimizer=optimizer, criterion=criterion)\n",
    "acc, p, r, f, roc_auc = eval_model(model, val_loader)\n",
    "print(f'Validation acc: {acc}, p:{p}, f:{f}, roc_auc:{roc_auc}')"
   ]
  }
 ],
 "metadata": {
  "kernelspec": {
   "display_name": "DLH_project",
   "language": "python",
   "name": "dlh_project"
  },
  "language_info": {
   "codemirror_mode": {
    "name": "ipython",
    "version": 3
   },
   "file_extension": ".py",
   "mimetype": "text/x-python",
   "name": "python",
   "nbconvert_exporter": "python",
   "pygments_lexer": "ipython3",
   "version": "3.10.4"
  }
 },
 "nbformat": 4,
 "nbformat_minor": 5
}
