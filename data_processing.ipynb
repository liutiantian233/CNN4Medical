{
 "cells": [
  {
   "cell_type": "code",
   "execution_count": 1,
   "id": "2b4992da",
   "metadata": {},
   "outputs": [
   ],
   "source": [
    "import pandas as pd\n",
    "import pkuseg\n",
    "import csv\n",
    "import torch\n",
    "import itertools\n",
    "import numpy as np\n",
    "from transformers import BertTokenizer, BertModel\n"
   ]
  },
  {
   "cell_type": "markdown",
   "id": "856b57d6",
   "metadata": {},
   "source": [
    "# Sample data"
   ]
  },
  {
   "cell_type": "code",
   "execution_count": 2,
   "id": "5eb3a04f",
   "metadata": {},
   "outputs": [],
   "source": [
    "data = pd.read_csv('answer.csv', delimiter=',')\n",
    "sample_portion = 0.01\n",
    "sample_size = int(sample_portion * len(data['content']))\n",
    "data_sample = data['content'].sample(n=sample_size)"
   ]
  },
  {
   "cell_type": "markdown",
   "id": "ac8c18a5",
   "metadata": {},
   "source": [
    "# Sentence segmentation"
   ]
  },
  {
   "cell_type": "code",
   "execution_count": 3,
   "id": "d1762779",
   "metadata": {},
   "outputs": [],
   "source": [
    "seg = pkuseg.pkuseg(model_name='medicine')\n",
    "# data = pd.read_csv('sampled_answer.csv', delimiter=',', header=None)[0]\n",
    "data = data_sample\n",
    "vocabulary = set(pd.read_csv('all_med_words.csv', delimiter='\\t', header=None)[0])\n",
    "segmented_answer = [' '.join([word for word in seg.cut(text) if word in vocabulary]) for text in data]\n",
    "segment_df = pd.DataFrame(segmented_answer)\n",
    "segment_df.to_csv('segmented_answer.csv', index=False, header=False)"
   ]
  },
  {
   "cell_type": "markdown",
   "id": "f6470a80",
   "metadata": {},
   "source": [
    "# Generate sentence pairs and label pairs"
   ]
  },
  {
   "cell_type": "code",
   "execution_count": 4,
   "id": "b9d64c6b",
   "metadata": {},
   "outputs": [],
   "source": [
    "data = segment_df[0]\n",
    "data = [i for i in data if len(i) > 0]\n",
    "\n",
    "# Mean Pooling - Take attention mask into account for correct averaging\n",
    "def mean_pooling(model_output, attention_mask):\n",
    "    token_embeddings = model_output[0]  # First element of model_output contains all token embeddings\n",
    "    input_mask_expanded = attention_mask.unsqueeze(-1).expand(token_embeddings.size()).float()\n",
    "    return torch.sum(token_embeddings * input_mask_expanded, 1) / torch.clamp(input_mask_expanded.sum(1), min=1e-9)\n",
    "\n",
    "# Load model from HuggingFace Hub\n",
    "tokenizer = BertTokenizer.from_pretrained('shibing624/text2vec-base-chinese')\n",
    "model = BertModel.from_pretrained('shibing624/text2vec-base-chinese')\n",
    "# Tokenize sentences\n",
    "encoded_input = tokenizer(data, padding=True, return_tensors='pt')\n",
    "\n",
    "# Compute token embeddings\n",
    "with torch.no_grad():\n",
    "    model_output = model(**encoded_input)\n",
    "sentence_embeddings = mean_pooling(model_output, encoded_input['attention_mask'])"
   ]
  },
  {
   "cell_type": "code",
   "execution_count": 5,
   "id": "044246d5",
   "metadata": {},
   "outputs": [
    {
     "name": "stdout",
     "output_type": "stream",
     "text": [
      "0\n",
      "1000\n",
      "2000\n"
     ]
    }
   ],
   "source": [
    "def cosine_similarity(a, b):\n",
    "    return np.dot(a, b)/(np.linalg.norm(a)*np.linalg.norm(b))\n",
    "\n",
    "length = len(sentence_embeddings)\n",
    "output = []\n",
    "for i in range(length):\n",
    "    if i % 1000 == 0:\n",
    "        print(i)\n",
    "    output += [(data[i], data[j], int(cosine_similarity(sentence_embeddings[i], sentence_embeddings[j]) // 0.2)) for j in range(length)]\n",
    "\n"
   ]
  },
  {
   "cell_type": "markdown",
   "id": "84ee1b3e",
   "metadata": {},
   "source": [
    "# Select suitable pair and shrink data size"
   ]
  },
  {
   "cell_type": "code",
   "execution_count": 6,
   "id": "13f02ff3",
   "metadata": {},
   "outputs": [],
   "source": [
    "labeled_df =  pd.DataFrame(output)\n",
    "labeled_df = labeled_df[(labeled_df[2] == 4) | (labeled_df[2] < 1)]\n",
    "labeled_df[2] = labeled_df[2] // 4\n",
    "labeled_df = labeled_df.sample(n=24000, replace=True)\n",
    "labeled_df.to_csv('cnn_data.csv', index=False)"
   ]
  },
  {
   "cell_type": "code",
   "execution_count": null,
   "id": "890fe4f4",
   "metadata": {},
   "outputs": [],
   "source": []
  }
 ],
 "metadata": {
  "kernelspec": {
   "display_name": "Python 3 (ipykernel)",
   "language": "python",
   "name": "python3"
  },
  "language_info": {
   "codemirror_mode": {
    "name": "ipython",
    "version": 3
   },
   "file_extension": ".py",
   "mimetype": "text/x-python",
   "name": "python",
   "nbconvert_exporter": "python",
   "pygments_lexer": "ipython3",
   "version": "3.8.9"
  }
 },
 "nbformat": 4,
 "nbformat_minor": 5
}
