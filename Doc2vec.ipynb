{
 "cells": [
  {
   "cell_type": "code",
   "execution_count": 1,
   "id": "1f63a71c",
   "metadata": {},
   "outputs": [
    {
     "data": {
      "text/plain": [
       "True"
      ]
     },
     "execution_count": 1,
     "metadata": {},
     "output_type": "execute_result"
    }
   ],
   "source": [
    "import pandas as pd\n",
    "from gensim.models.doc2vec import Doc2Vec, TaggedDocument\n",
    "import nltk\n",
    "from nltk.tokenize import word_tokenize\n",
    "import numpy as np\n",
    "nltk.download('punkt')"
   ]
  },
  {
   "cell_type": "code",
   "execution_count": 9,
   "id": "d9280df9",
   "metadata": {},
   "outputs": [],
   "source": [
    "data = pd.read_csv('segmented_answer.csv', delimiter=',', header=None)[0]\n",
    "data = [i for i in data if len(i) > 0]"
   ]
  },
  {
   "cell_type": "code",
   "execution_count": 10,
   "id": "bdc093ab",
   "metadata": {},
   "outputs": [],
   "source": [
    "tagged_data = [TaggedDocument(words=word_tokenize(_d.lower()), tags=[str(i)]) for i, _d in enumerate(data)]"
   ]
  },
  {
   "cell_type": "code",
   "execution_count": 11,
   "id": "64f43b45",
   "metadata": {},
   "outputs": [],
   "source": [
    "max_epochs = 10\n",
    "vec_size = 20\n",
    "alpha = 0.025\n",
    "\n",
    "model = Doc2Vec(alpha=alpha, \n",
    "                min_alpha=0.00025)\n",
    "  \n",
    "model.build_vocab(tagged_data)\n",
    "\n",
    "for epoch in range(max_epochs):\n",
    "    \n",
    "    model.train(tagged_data,\n",
    "                total_examples=model.corpus_count,\n",
    "                epochs=1)\n",
    "    # decrease the learning rate\n",
    "    model.alpha -= 0.0002\n",
    "    # fix the learning rate, no decay\n",
    "    model.min_alpha = model.alpha"
   ]
  },
  {
   "cell_type": "code",
   "execution_count": 51,
   "id": "caff4a32",
   "metadata": {},
   "outputs": [],
   "source": [
    "def cosine_similarity(a, b):\n",
    "    return np.dot(a, b)/(np.linalg.norm(a)*np.linalg.norm(b))"
   ]
  },
  {
   "cell_type": "code",
   "execution_count": 62,
   "id": "17a14262",
   "metadata": {},
   "outputs": [],
   "source": [
    "correct = 0\n",
    "test_dataset = pd.read_csv('cnn_data.csv', delimiter=',')\n",
    "vectorized = pd.DataFrame()\n",
    "vectorized[0] = test_dataset['0'].apply(lambda x : model.infer_vector(x.split(' ')))\n",
    "vectorized[1] = test_dataset['1'].apply(lambda x : model.infer_vector(x.split(' ')))"
   ]
  },
  {
   "cell_type": "code",
   "execution_count": 67,
   "id": "c6976e15",
   "metadata": {},
   "outputs": [],
   "source": [
    "for i in range(len(col1)):\n",
    "    sim = int(cosine_similarity(vectorized[0][i], vectorized[1][i]) > 0.8)\n",
    "    correct += int(sim == test_dataset['2'][i])"
   ]
  },
  {
   "cell_type": "code",
   "execution_count": 68,
   "id": "1c43bdf0",
   "metadata": {},
   "outputs": [
    {
     "data": {
      "text/plain": [
       "0.82675"
      ]
     },
     "execution_count": 68,
     "metadata": {},
     "output_type": "execute_result"
    }
   ],
   "source": [
    "correct / 24000"
   ]
  },
  {
   "cell_type": "code",
   "execution_count": null,
   "id": "bf847e5b",
   "metadata": {},
   "outputs": [],
   "source": []
  }
 ],
 "metadata": {
  "kernelspec": {
   "display_name": "Python 3 (ipykernel)",
   "language": "python",
   "name": "python3"
  },
  "language_info": {
   "codemirror_mode": {
    "name": "ipython",
    "version": 3
   },
   "file_extension": ".py",
   "mimetype": "text/x-python",
   "name": "python",
   "nbconvert_exporter": "python",
   "pygments_lexer": "ipython3",
   "version": "3.8.9"
  }
 },
 "nbformat": 4,
 "nbformat_minor": 5
}
